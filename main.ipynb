{
 "cells": [
  {
   "cell_type": "markdown",
   "id": "f8c31801-a02b-4c76-a565-e8f30459bef7",
   "metadata": {},
   "source": [
    "# How to fine-tune your GPT3.5-Turbo model?\n",
    "\n"
   ]
  },
  {
   "cell_type": "markdown",
   "id": "a469d383-db6a-4552-8715-77bcdf798e91",
   "metadata": {},
   "source": [
    "Before we begin, we need to import all the packages we need and set up an OpenAI API Key. You can create an OpenAI API Key by following the [instruction here](https://www.maisieai.com/help/how-to-get-an-openai-api-key-for-chatgpt)"
   ]
  },
  {
   "cell_type": "code",
   "execution_count": 1,
   "id": "ddd08d4c",
   "metadata": {},
   "outputs": [],
   "source": [
    "import openai\n",
    "import json\n",
    "import random\n",
    "from tenacity import (\n",
    "    retry,\n",
    "    stop_after_attempt,\n",
    "    wait_random_exponential,\n",
    ")\n",
    "\n",
    "openai.api_key = ''"
   ]
  },
  {
   "cell_type": "markdown",
   "id": "723706cc-33c1-4322-86b3-b0e0e191cd92",
   "metadata": {},
   "source": [
    "## 1. Generate a dataset\n",
    "\n",
    "Firstly, we need a dataset. You can use a real dataset or generate one, depending on your situation.\n",
    "\n",
    "In our case, we will use both GPT4-generated data and real-life data.\n",
    "\n",
    "📝 Note: It's a good idea to use a larger training samples."
   ]
  },
  {
   "cell_type": "code",
   "execution_count": 5,
   "id": "a4e2c4d0-8556-4366-ad0b-237ee4689f54",
   "metadata": {},
   "outputs": [
    {
     "name": "stdout",
     "output_type": "stream",
     "text": [
      "Dataset:  [{'question': 'What is the process for requesting time off or vacation days?'}, {'question': 'How does the health insurance coverage work?'}, {'question': 'What retirement savings plans are available?'}, {'question': 'How do I report a problem with a coworker or supervisor?'}, {'question': \"What is the company's policy on work from home or remote work?\"}, {'question': 'How can I apply for a promotion or transfer to a different department?'}, {'question': 'What is the procedure for filing a complaint or grievance?'}, {'question': \"What is the company's policy on maternity or paternity leave?\"}, {'question': 'How does the performance review process work?'}, {'question': \"What are the company's policies on diversity and inclusion?\"}, {'question': 'What training or professional development opportunities are available?'}, {'question': \"What is the company's policy on overtime work?\"}, {'question': 'How do I update my personal information or emergency contacts?'}, {'question': 'What is the process for submitting expenses for reimbursement?'}, {'question': \"What is the company's dress code policy?\"}, {'question': \"What are the company's policies on sick leave?\"}, {'question': \"What is the company's policy on employee privacy?\"}, {'question': \"What is the company's policy on harassment and discrimination?\"}, {'question': \"What is the company's policy on employee safety and wellness?\"}, {'question': \"What is the company's policy on employee benefits?\"}, {'question': \"What is the company's policy on employee conduct?\"}, {'question': \"What is the company's policy on conflict resolution?\"}, {'question': \"What is the company's policy on employee recognition and rewards?\"}, {'question': \"What is the company's policy on employee termination?\"}, {'question': \"What is the company's policy on employee compensation?\"}, {'question': 'Can you get my payslip last month?'}, {'question': 'I need more information from HR team on our maternity policy. Could you let them know?'}, {'question': \"I'm not feeling well today, can you book a dayoff for me?\"}, {'question': 'How can I file my expenses from client meeting?'}, {'question': 'Can you ask HR to get me a new laptop?'}]\n"
     ]
    }
   ],
   "source": [
    "dataset = []\n",
    "\n",
    "# Data from GPT4\n",
    "messages = [\n",
    "    {'role': 'system', 'content': 'You are an employee in the 200FTE company'},\n",
    "    {'role': 'user', 'content': 'Give me 25 common questions employees ask HR team. Answer in JSON format, eg: [{\"question\": \"...\"}, {\"question\", \"...\"}]'}\n",
    "]\n",
    "response = openai.ChatCompletion.create(\n",
    "    model='gpt-4',\n",
    "    messages=messages,\n",
    "    temperature=0,\n",
    ")\n",
    "data_from_gpt4 = json.loads(response.choices[0]['message']['content'])\n",
    "\n",
    "for question in data_from_gpt4:\n",
    "    dataset.append({'question': question.popitem()[-1]})\n",
    "\n",
    "# Data from Human\n",
    "data_from_human = [\n",
    "    {\"question\": \"Can you get my payslip last month?\"},\n",
    "    {\"question\": \"I need more information from HR team on our maternity policy. Could you let them know?\"},\n",
    "    {\"question\": \"I'm not feeling well today, can you book a dayoff for me?\"},\n",
    "    {\"question\": \"How can I file my expenses from client meeting?\"},\n",
    "    {\"question\": \"Can you ask HR to get me a new laptop?\"},\n",
    "]\n",
    "\n",
    "# Save dataset\n",
    "dataset = dataset + data_from_human\n",
    "with open(\"data/raw.json\", \"w\") as outfile:\n",
    "    json.dump(dataset, outfile)\n",
    "\n",
    "print('Dataset: ', dataset)"
   ]
  },
  {
   "cell_type": "markdown",
   "id": "b76e24e6-db54-4851-8f26-d87c44f50c47",
   "metadata": {},
   "source": [
    "## 2. Label the dataset\n",
    "\n",
    "After we get generate our first dataset, it's just a list of questions. We can't use it since there is no expected result yet.\n",
    "We need to complete it.\n",
    "\n",
    "We'll use GPT4 to generate the missing pieces, which is the interpretation of each question.\n",
    "\n",
    "📝 Note: You might notice that we shuffle the prompt on each interpretation. We found out that randomness can help the model weigh interpret better so it might be a good idea to add some randomness to your dataset as well.\n",
    "\n",
    "💡 Tips: We found out later that real data (with human labeling) is the best way to get the best responses. Allowing humans to be in the process helps us make sure that no defective data will be trained in the model.\n",
    "\n",
    "*Garbage in = Garbage out*"
   ]
  },
  {
   "cell_type": "code",
   "execution_count": 13,
   "id": "6bc6b5d8-9490-4efe-ad96-93f04f2b6d56",
   "metadata": {},
   "outputs": [
    {
     "name": "stdout",
     "output_type": "stream",
     "text": [
      "Asking: What is the company's policy on employee compensation?\n",
      "Response: {'action': 'get_policy'}\n",
      "Asking: What is the procedure for filing a complaint or grievance?\n",
      "Response: {'action': 'escalate'}\n",
      "Asking: Can you get my payslip last month?\n",
      "Response: {'action': 'get_payslip'}\n",
      "Asking: What is the company's policy on maternity or paternity leave?\n",
      "Response: {'action': 'get_policy'}\n",
      "Asking: What is the company's policy on conflict resolution?\n",
      "Response: {'action': 'get_policy'}\n",
      "Asking: How can I apply for a promotion or transfer to a different department?\n",
      "Response: {'action': 'get_policy'}\n",
      "Asking: Can you ask HR to get me a new laptop?\n",
      "Response: {'action': 'escalate'}\n",
      "Asking: What is the process for submitting expenses for reimbursement?\n",
      "Response: {'action': 'get_policy'}\n",
      "Asking: What is the process for requesting time off or vacation days?\n",
      "Response: {'action': 'get_policy'}\n",
      "Asking: What is the company's policy on work from home or remote work?\n",
      "Response: {'action': 'get_policy'}\n",
      "Asking: How do I report a problem with a coworker or supervisor?\n",
      "Response: {'action': 'escalate'}\n",
      "Asking: What are the company's policies on sick leave?\n",
      "Response: {'action': 'get_policy'}\n",
      "Asking: How do I update my personal information or emergency contacts?\n",
      "Response: {'action': 'escalate'}\n",
      "Asking: How can I file my expenses from client meeting?\n",
      "Response: {'action': 'escalate'}\n",
      "Asking: What is the company's policy on employee privacy?\n",
      "Response: {'action': 'get_policy'}\n",
      "Asking: What is the company's policy on overtime work?\n",
      "Response: {'action': 'get_policy'}\n",
      "Asking: How does the health insurance coverage work?\n",
      "Response: {'action': 'get_policy'}\n",
      "Asking: I'm not feeling well today, can you book a dayoff for me?\n",
      "Response: {'action': 'book_holiday'}\n",
      "Asking: What is the company's policy on employee recognition and rewards?\n",
      "Response: {'action': 'get_policy'}\n",
      "Asking: What are the company's policies on diversity and inclusion?\n",
      "Response: {'action': 'get_policy'}\n",
      "Asking: What is the company's policy on employee conduct?\n",
      "Response: {'action': 'get_policy'}\n",
      "Asking: I need more information from HR team on our maternity policy. Could you let them know?\n",
      "Response: {'action': 'escalate'}\n",
      "Asking: What retirement savings plans are available?\n",
      "Response: {'action': 'get_policy'}\n",
      "Asking: What is the company's policy on employee termination?\n",
      "Response: {'action': 'get_policy'}\n",
      "Asking: How does the performance review process work?\n",
      "Response: {'action': 'get_policy'}\n",
      "Asking: What training or professional development opportunities are available?\n",
      "Response: {'action': 'get_policy'}\n",
      "Asking: What is the company's policy on harassment and discrimination?\n",
      "Response: {'action': 'get_policy'}\n",
      "Asking: What is the company's dress code policy?\n",
      "Response: {'action': 'get_policy'}\n",
      "Asking: What is the company's policy on employee benefits?\n",
      "Response: {'action': 'get_policy'}\n",
      "Asking: What is the company's policy on employee safety and wellness?\n",
      "Response: {'action': 'get_policy'}\n",
      "Dataset:  [{'question': \"What is the company's policy on employee compensation?\", 'action': 'get_policy'}, {'question': 'What is the procedure for filing a complaint or grievance?', 'action': 'escalate'}, {'question': 'Can you get my payslip last month?', 'action': 'get_payslip'}, {'question': \"What is the company's policy on maternity or paternity leave?\", 'action': 'get_policy'}, {'question': \"What is the company's policy on conflict resolution?\", 'action': 'get_policy'}, {'question': 'How can I apply for a promotion or transfer to a different department?', 'action': 'get_policy'}, {'question': 'Can you ask HR to get me a new laptop?', 'action': 'escalate'}, {'question': 'What is the process for submitting expenses for reimbursement?', 'action': 'get_policy'}, {'question': 'What is the process for requesting time off or vacation days?', 'action': 'get_policy'}, {'question': \"What is the company's policy on work from home or remote work?\", 'action': 'get_policy'}, {'question': 'How do I report a problem with a coworker or supervisor?', 'action': 'escalate'}, {'question': \"What are the company's policies on sick leave?\", 'action': 'get_policy'}, {'question': 'How do I update my personal information or emergency contacts?', 'action': 'escalate'}, {'question': 'How can I file my expenses from client meeting?', 'action': 'escalate'}, {'question': \"What is the company's policy on employee privacy?\", 'action': 'get_policy'}, {'question': \"What is the company's policy on overtime work?\", 'action': 'get_policy'}, {'question': 'How does the health insurance coverage work?', 'action': 'get_policy'}, {'question': \"I'm not feeling well today, can you book a dayoff for me?\", 'action': 'book_holiday'}, {'question': \"What is the company's policy on employee recognition and rewards?\", 'action': 'get_policy'}, {'question': \"What are the company's policies on diversity and inclusion?\", 'action': 'get_policy'}, {'question': \"What is the company's policy on employee conduct?\", 'action': 'get_policy'}, {'question': 'I need more information from HR team on our maternity policy. Could you let them know?', 'action': 'escalate'}, {'question': 'What retirement savings plans are available?', 'action': 'get_policy'}, {'question': \"What is the company's policy on employee termination?\", 'action': 'get_policy'}, {'question': 'How does the performance review process work?', 'action': 'get_policy'}, {'question': 'What training or professional development opportunities are available?', 'action': 'get_policy'}, {'question': \"What is the company's policy on harassment and discrimination?\", 'action': 'get_policy'}, {'question': \"What is the company's dress code policy?\", 'action': 'get_policy'}, {'question': \"What is the company's policy on employee benefits?\", 'action': 'get_policy'}, {'question': \"What is the company's policy on employee safety and wellness?\", 'action': 'get_policy'}]\n"
     ]
    }
   ],
   "source": [
    "# Prevent OpenAI Rate limits\n",
    "@retry(wait=wait_random_exponential(min=1, max=60), stop=stop_after_attempt(20))\n",
    "def completion_with_backoff(**kwargs):\n",
    "    return openai.ChatCompletion.create(**kwargs)\n",
    "\n",
    "def get_actions():\n",
    "    actions = [\n",
    "        '    get_policy: Find policy - ',\n",
    "        '    book_holiday: Book holiday -',\n",
    "        '    get_payslip: Get payslip - ',\n",
    "        '    escalate: Escalate to HR - ',\n",
    "    ]\n",
    "    random.shuffle(actions)\n",
    "    return '\\n'.join(actions)\n",
    "    \n",
    "def get_prompt():\n",
    "    prompt = \"\"\"\n",
    "    You are question analyst.\n",
    "    \n",
    "    Given a raw text input to a language model select the next action best suited for the input. \n",
    "    You will be given the names of the available action and a description of what the action is best suited for.\n",
    "\n",
    "    Answer in JSON format. Eg. {\"action\": \"get_policy\"}\n",
    "    \n",
    "    Action:\n",
    "\"\"\"\n",
    "    return prompt + get_actions()\n",
    "\n",
    "dataset = []\n",
    "\n",
    "with open('data/raw.json') as f:\n",
    "    questions = json.load(f)\n",
    "    random.shuffle(questions)\n",
    "\n",
    "    for question in questions:\n",
    "        q = question.popitem()[-1]\n",
    "        print(f'Asking: {q}')\n",
    "        messages = [\n",
    "            {'role': 'system', 'content': get_prompt()},\n",
    "            {'role': 'user', 'content': q}\n",
    "        ]\n",
    "        response = completion_with_backoff(\n",
    "            model='gpt-4',\n",
    "            messages=messages,\n",
    "            temperature=0, \n",
    "        )\n",
    "        response_json = json.loads(response.choices[0]['message']['content'])\n",
    "        dataset.append({\n",
    "            'question': q,\n",
    "            'action': response_json['action'],\n",
    "        })\n",
    "        print(f\"Response: {response_json}\")\n",
    "\n",
    "json_object = json.dumps(dataset, indent=4)\n",
    "with open(\"data/processed.json\", \"w\") as outfile:\n",
    "    outfile.write(json_object)\n",
    "\n",
    "print('Dataset: ', dataset)"
   ]
  },
  {
   "cell_type": "markdown",
   "id": "89c20a1f-5a1d-4da1-b650-6b1d3958bf04",
   "metadata": {},
   "source": [
    "## 3. Format the dataset\n",
    "\n",
    "OpenAI Model Fine-tuning can only read datasets in a certain format. We need to convert it to OpenAI Message Format first, which contains 3 important keys\n",
    "- `\"role\": \"system\"` - the prompt \n",
    "- `\"role\": \"user\"` - the question\n",
    "- `\"role\": \"assistant\"` - the expected output\n",
    "\n",
    "After formatting, We need to split the dataset into Training and Validation sets in `jsonl` files, which are loads of JSON objects that are separated by a newline."
   ]
  },
  {
   "cell_type": "code",
   "execution_count": 17,
   "id": "dbab9afc-00b8-4674-8de0-1ea4e54a0c86",
   "metadata": {},
   "outputs": [],
   "source": [
    "with open('data/processed.json') as f:\n",
    "    questions = json.load(f)\n",
    "\n",
    "    dataset = []\n",
    "    for question in questions:\n",
    "        dataset.append({\n",
    "            'messages': [\n",
    "                {'role': 'system', 'content': get_prompt()},\n",
    "                {'role': 'user', 'content': question['question']},\n",
    "                {'role': 'assistant', 'content': \"{\\\"action\\\": \" + str(question['action']) + \"}\"},\n",
    "            ]\n",
    "        })\n",
    "    \n",
    "    def save_to_jsonl(conversations, file_path):\n",
    "        with open(file_path, 'w') as file:\n",
    "            for conversation in conversations:\n",
    "                json_line = json.dumps(conversation)\n",
    "                file.write(json_line + '\\n')\n",
    "\n",
    "            \n",
    "    # train 80%, validate 20%\n",
    "    train_ratio = 0.8 \n",
    "    num_train = int(len(dataset) * train_ratio)\n",
    "    save_to_jsonl(dataset[:num_train], 'data/train.jsonl')\n",
    "    save_to_jsonl(dataset[num_train:], 'data/validate.jsonl')"
   ]
  },
  {
   "cell_type": "markdown",
   "id": "6e840599-c230-4f98-a31f-39e56e2dab97",
   "metadata": {},
   "source": [
    "## 4. Fine-tune a model\n",
    "\n",
    "This step is super simple. We just need to upload our files and tell OpenAI to start fine-tuning. You can do it by the code below."
   ]
  },
  {
   "cell_type": "code",
   "execution_count": null,
   "id": "7bf57332-85d2-4cf6-9f58-ffd830acb6ed",
   "metadata": {},
   "outputs": [],
   "source": [
    "# Upload dataset\n",
    "training_file_name = './data/train.jsonl'\n",
    "validation_file_name = './data/validate.jsonl'\n",
    "\n",
    "training_response = openai.File.create(\n",
    "    file=open(training_file_name, \"rb\"), purpose=\"fine-tune\"\n",
    ")\n",
    "training_file_id = training_response[\"id\"]\n",
    "\n",
    "validation_response = openai.File.create(\n",
    "    file=open(validation_file_name, \"rb\"), purpose=\"fine-tune\"\n",
    ")\n",
    "validation_file_id = validation_response[\"id\"]\n",
    "\n",
    "print(\"Training file id:\", training_file_id)\n",
    "print(\"Validation file id:\", validation_file_id)"
   ]
  },
  {
   "cell_type": "code",
   "execution_count": null,
   "id": "2fdacb96-3ff5-4ac6-a1d6-43812c27d58f",
   "metadata": {
    "scrolled": true
   },
   "outputs": [],
   "source": [
    "suffix_name = \"routing-demo\"\n",
    "\n",
    "response = openai.FineTuningJob.create(\n",
    "    training_file=training_file_id,\n",
    "    validation_file=validation_file_id,\n",
    "    model=\"gpt-3.5-turbo\",\n",
    "    suffix=suffix_name,\n",
    ")\n",
    "print(\"Response: \", response)"
   ]
  },
  {
   "cell_type": "markdown",
   "id": "d7eb4ec9-a0dd-44df-b62f-11d2a7b2a2f9",
   "metadata": {},
   "source": [
    "Well done! Now, we just need OpenAI to train a model. You can check the status on the [OpenAI Dashboard](https://platform.openai.com/finetune).\n",
    "\n",
    "How long does it take is totally depends on the size of your dataset."
   ]
  },
  {
   "cell_type": "markdown",
   "id": "21cb115f-83c9-428e-aac9-62fec022f18f",
   "metadata": {},
   "source": [
    "## 5. Test the model\n",
    "\n",
    "After OpenAI finishes training your model, You will get an email from OpenAI that will contain the finetuned model's information or you can just go to your dashboard.\n",
    "Copy and paste the model name into the code.\n",
    "\n",
    "🎉 Tada! Your fine-tuned model is ready to use now! We recommend validating the performance of the model next. "
   ]
  },
  {
   "cell_type": "code",
   "execution_count": 21,
   "id": "07c17469-e830-4a6b-ade9-c20763a1bf67",
   "metadata": {},
   "outputs": [
    {
     "name": "stdout",
     "output_type": "stream",
     "text": [
      "Response:  {\"action\": get_payslip}\n"
     ]
    }
   ],
   "source": [
    "model = 'ft:gpt-3.5-turbo-0613:personal:routing-demo:xxxxx'\n",
    "question = 'Can you find me my payslip on June 2023'\n",
    "messages = [\n",
    "    {'role': 'system', 'content': get_prompt()},\n",
    "    {'role': 'user', 'content': question}\n",
    "]\n",
    "response = completion_with_backoff(\n",
    "    model=model,\n",
    "    messages=messages,\n",
    "    temperature=0, \n",
    "    max_tokens=500,\n",
    ")\n",
    "print(\"Response: \", response.choices[0]['message']['content'])"
   ]
  }
 ],
 "metadata": {
  "kernelspec": {
   "display_name": "Python 3 (ipykernel)",
   "language": "python",
   "name": "python3"
  },
  "language_info": {
   "codemirror_mode": {
    "name": "ipython",
    "version": 3
   },
   "file_extension": ".py",
   "mimetype": "text/x-python",
   "name": "python",
   "nbconvert_exporter": "python",
   "pygments_lexer": "ipython3",
   "version": "3.11.2"
  }
 },
 "nbformat": 4,
 "nbformat_minor": 5
}
